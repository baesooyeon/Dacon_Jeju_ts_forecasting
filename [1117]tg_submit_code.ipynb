{
 "cells": [
  {
   "cell_type": "code",
   "execution_count": 15,
   "metadata": {},
   "outputs": [],
   "source": [
    "import pandas as pd\n",
    "import plotly.express as px\n",
    "import matplotlib.pyplot as plt \n",
    "import numpy as np\n",
    "import seaborn as sns\n",
    "from datetime import datetime,timedelta\n",
    "from sklearn.preprocessing import LabelEncoder\n",
    "import xgboost as xgb\n",
    "from xgboost import plot_importance, plot_tree\n",
    "from xgboost import XGBClassifier\n",
    "import datetime\n",
    "import holidays\n",
    "from sklearn.preprocessing import LabelEncoder\n",
    "import prophet\n",
    "from sklearn.metrics import mean_squared_error\n",
    "from xgboost import XGBRegressor, plot_importance\n",
    "from pre_processing_sy import *\n",
    "import random\n",
    "import os\n",
    "import torch\n",
    "from torch.autograd import Variable\n",
    "import xgboost\n",
    "from sklearn.model_selection import TimeSeriesSplit, RandomizedSearchCV\n",
    "from random import randint\n",
    "from catboost import CatBoostRegressor\n",
    "# from sktime.forecasting.model_selection import temporal_train_test_split\n",
    "# from sktime.utils.plotting import plot_series"
   ]
  },
  {
   "cell_type": "code",
   "execution_count": 16,
   "metadata": {},
   "outputs": [],
   "source": [
    "def seed_everything(seed: int = 2024):\n",
    "    random.seed(seed)\n",
    "    np.random.seed(seed)\n",
    "    os.environ[\"PYTHONHASHSEED\"] = str(seed)\n",
    "    torch.manual_seed(seed)\n",
    "    torch.cuda.manual_seed(seed)  # type: ignore\n",
    "    torch.backends.cudnn.deterministic = True  # type: ignore\n",
    "    torch.backends.cudnn.benchmark = True  # type: ignore\n",
    "seed_everything(2024)"
   ]
  },
  {
   "cell_type": "markdown",
   "metadata": {},
   "source": [
    "### 데이터 불러오기"
   ]
  },
  {
   "cell_type": "code",
   "execution_count": 17,
   "metadata": {},
   "outputs": [
    {
     "name": "stdout",
     "output_type": "stream",
     "text": [
      "전처리 전 train 크기 : (59397, 7)\n",
      "전처리 전 test 크기 : (1092, 5)\n",
      "=================전처리 중=================\n",
      "전처리 후 train 크기 : (59397, 15)\n",
      "전처리 후 test 크기 : (1092, 15)\n",
      "train의 컬럼 : Index(['ID', 'timestamp', 'item', 'corporation', 'location', 'supply', 'price',\n",
      "       'year', 'month', 'day', 'week_day', 'year_month', 'week', 'week_num',\n",
      "       'holiday'],\n",
      "      dtype='object')\n",
      "test의 컬럼 : Index(['ID', 'timestamp', 'item', 'corporation', 'location', 'supply', 'price',\n",
      "       'year', 'month', 'day', 'week_day', 'year_month', 'week', 'week_num',\n",
      "       'holiday'],\n",
      "      dtype='object')\n",
      "Index(['ID', 'timestamp', 'price', 'year', 'month', 'day', 'week_day',\n",
      "       'year_month', 'week', 'week_num', 'holiday', 'corporation_A',\n",
      "       'corporation_B', 'corporation_C', 'corporation_D', 'corporation_E',\n",
      "       'location_J', 'location_S'],\n",
      "      dtype='object')\n"
     ]
    }
   ],
   "source": [
    "# 데이터 불러오기\n",
    "train = pd.read_csv(\"dataset/train.csv\")\n",
    "test = pd.read_csv(\"dataset/test.csv\")\n",
    "trade = pd.read_csv(\"dataset/international_trade.csv\")\n",
    "submission = pd.read_csv(\"dataset/sample_submission.csv\")\n",
    "\n",
    "\n",
    "train_pre, test_pre = pre_all(train, test)\n",
    "\n",
    "# # 공휴일이지만 안쉬는 날 제외하기\n",
    "no_holi = list(train_pre[(train_pre[\"item\"] ==\"TG\") &(train_pre[\"holiday\"]==1) & (train_pre[\"price\"]!=0)].groupby(\"timestamp\").count().reset_index()[\"timestamp\"])\n",
    "noholi_idx = train_pre[train_pre[\"timestamp\"].isin(no_holi)][\"holiday\"].index\n",
    "for idx in noholi_idx:\n",
    "    train_pre.loc[idx, \"holiday\"] = 0\n",
    "    test_pre.loc[idx, \"holiday\"] = 0\n",
    "\n",
    "print(f\"train의 컬럼 : {train_pre.columns}\")\n",
    "print(f\"test의 컬럼 : {test_pre.columns}\")\n",
    "\n",
    "train_tg = train_pre[train_pre[\"item\"] ==\"TG\"]\n",
    "test_tg = test_pre[test_pre[\"item\"] == \"TG\"]\n",
    "\n",
    "Xy = pd.get_dummies(train_tg.sort_values(by = [\"timestamp\", \"corporation\",\"location\"]).reset_index(drop=True).drop(columns = [\"item\",\"supply\"]), columns = [ \"corporation\",\"location\"])\n",
    "answer = pd.get_dummies(test_tg.drop(columns = [\"timestamp\",\"supply\",\"price\",\"item\",]), columns = [ \"corporation\",\"location\"])\n",
    "print(Xy.columns)\n",
    "\n",
    "# 종속변수 루트값\n",
    "Xy[\"price\"] = np.sqrt(Xy[\"price\"])\n"
   ]
  },
  {
   "cell_type": "code",
   "execution_count": 18,
   "metadata": {},
   "outputs": [
    {
     "name": "stdout",
     "output_type": "stream",
     "text": [
      "Xy컬럼 : Index(['ID', 'timestamp', 'price', 'year', 'month', 'day', 'week_day',\n",
      "       'year_month', 'week', 'week_num', 'holiday', 'corporation_A',\n",
      "       'corporation_B', 'corporation_C', 'corporation_D', 'corporation_E',\n",
      "       'location_J', 'location_S'],\n",
      "      dtype='object')\n",
      "test컬럼 : Index(['ID', 'year', 'month', 'day', 'week_day', 'year_month', 'week',\n",
      "       'week_num', 'holiday', 'corporation_A', 'corporation_B',\n",
      "       'corporation_C', 'corporation_D', 'corporation_E', 'location_J',\n",
      "       'location_S'],\n",
      "      dtype='object')\n"
     ]
    }
   ],
   "source": [
    "print(f\"Xy컬럼 : {Xy.columns}\")\n",
    "print(f\"test컬럼 : {answer.columns}\")"
   ]
  },
  {
   "cell_type": "code",
   "execution_count": null,
   "metadata": {},
   "outputs": [],
   "source": [
    "# 그리드 서치 결과\n",
    "tg_cat_grid = pd.read_csv(\"[1117]tg_cat_gridsearch_timecorlocsort.csv\")"
   ]
  },
  {
   "cell_type": "code",
   "execution_count": 19,
   "metadata": {},
   "outputs": [
    {
     "name": "stdout",
     "output_type": "stream",
     "text": [
      "0:\tlearn: 30.2823698\ttotal: 11.8ms\tremaining: 11.8s\n",
      "999:\tlearn: 11.0655757\ttotal: 9.04s\tremaining: 0us\n"
     ]
    },
    {
     "data": {
      "text/html": [
       "<div>\n",
       "<style scoped>\n",
       "    .dataframe tbody tr th:only-of-type {\n",
       "        vertical-align: middle;\n",
       "    }\n",
       "\n",
       "    .dataframe tbody tr th {\n",
       "        vertical-align: top;\n",
       "    }\n",
       "\n",
       "    .dataframe thead th {\n",
       "        text-align: right;\n",
       "    }\n",
       "</style>\n",
       "<table border=\"1\" class=\"dataframe\">\n",
       "  <thead>\n",
       "    <tr style=\"text-align: right;\">\n",
       "      <th></th>\n",
       "      <th>ID</th>\n",
       "      <th>answer</th>\n",
       "    </tr>\n",
       "  </thead>\n",
       "  <tbody>\n",
       "    <tr>\n",
       "      <th>0</th>\n",
       "      <td>TG_A_J_20230304</td>\n",
       "      <td>2742.172780</td>\n",
       "    </tr>\n",
       "    <tr>\n",
       "      <th>1</th>\n",
       "      <td>TG_E_S_20230304</td>\n",
       "      <td>3354.003496</td>\n",
       "    </tr>\n",
       "    <tr>\n",
       "      <th>3</th>\n",
       "      <td>TG_E_J_20230304</td>\n",
       "      <td>760.581106</td>\n",
       "    </tr>\n",
       "    <tr>\n",
       "      <th>5</th>\n",
       "      <td>TG_D_S_20230304</td>\n",
       "      <td>3769.615969</td>\n",
       "    </tr>\n",
       "    <tr>\n",
       "      <th>8</th>\n",
       "      <td>TG_D_J_20230304</td>\n",
       "      <td>53.451592</td>\n",
       "    </tr>\n",
       "    <tr>\n",
       "      <th>...</th>\n",
       "      <td>...</td>\n",
       "      <td>...</td>\n",
       "    </tr>\n",
       "    <tr>\n",
       "      <th>1074</th>\n",
       "      <td>TG_D_S_20230331</td>\n",
       "      <td>4727.895634</td>\n",
       "    </tr>\n",
       "    <tr>\n",
       "      <th>1077</th>\n",
       "      <td>TG_A_S_20230331</td>\n",
       "      <td>5403.967583</td>\n",
       "    </tr>\n",
       "    <tr>\n",
       "      <th>1079</th>\n",
       "      <td>TG_E_S_20230331</td>\n",
       "      <td>4715.201735</td>\n",
       "    </tr>\n",
       "    <tr>\n",
       "      <th>1087</th>\n",
       "      <td>TG_A_J_20230331</td>\n",
       "      <td>6813.935154</td>\n",
       "    </tr>\n",
       "    <tr>\n",
       "      <th>1090</th>\n",
       "      <td>TG_E_J_20230331</td>\n",
       "      <td>2810.642810</td>\n",
       "    </tr>\n",
       "  </tbody>\n",
       "</table>\n",
       "<p>280 rows × 2 columns</p>\n",
       "</div>"
      ],
      "text/plain": [
       "                   ID       answer\n",
       "0     TG_A_J_20230304  2742.172780\n",
       "1     TG_E_S_20230304  3354.003496\n",
       "3     TG_E_J_20230304   760.581106\n",
       "5     TG_D_S_20230304  3769.615969\n",
       "8     TG_D_J_20230304    53.451592\n",
       "...               ...          ...\n",
       "1074  TG_D_S_20230331  4727.895634\n",
       "1077  TG_A_S_20230331  5403.967583\n",
       "1079  TG_E_S_20230331  4715.201735\n",
       "1087  TG_A_J_20230331  6813.935154\n",
       "1090  TG_E_J_20230331  2810.642810\n",
       "\n",
       "[280 rows x 2 columns]"
      ]
     },
     "execution_count": 19,
     "metadata": {},
     "output_type": "execute_result"
    }
   ],
   "source": [
    "# 예측 및 \n",
    "n_estimators =1000\n",
    "lrs = 0.05\n",
    "max_depths = 10\n",
    "l2_leaf_reg = 3\n",
    "\n",
    "cat = CatBoostRegressor(random_state = 2024, \n",
    "                                n_estimators = n_estimators, \n",
    "                                learning_rate = lrs, \n",
    "                                depth = max_depths, \n",
    "                                l2_leaf_reg = l2_leaf_reg,\n",
    "                                metric_period = 1000)\n",
    "\n",
    "cat.fit(Xy.drop(columns = [\"timestamp\", \"ID\",\"price\"]), Xy[\"price\"])\n",
    "\n",
    "pred = cat.predict(answer.drop(columns = [\"ID\"]))\n",
    "for idx in range(len(pred)):\n",
    "    if pred[idx]<0:\n",
    "        pred[idx]= 0\n",
    "answer[\"answer\"] = np.power(pred,2)\n",
    "\n",
    "answer[[\"ID\",\"answer\"]]"
   ]
  },
  {
   "cell_type": "code",
   "execution_count": 20,
   "metadata": {},
   "outputs": [
    {
     "data": {
      "text/html": [
       "<div>\n",
       "<style scoped>\n",
       "    .dataframe tbody tr th:only-of-type {\n",
       "        vertical-align: middle;\n",
       "    }\n",
       "\n",
       "    .dataframe tbody tr th {\n",
       "        vertical-align: top;\n",
       "    }\n",
       "\n",
       "    .dataframe thead th {\n",
       "        text-align: right;\n",
       "    }\n",
       "</style>\n",
       "<table border=\"1\" class=\"dataframe\">\n",
       "  <thead>\n",
       "    <tr style=\"text-align: right;\">\n",
       "      <th></th>\n",
       "      <th>ID</th>\n",
       "      <th>answer</th>\n",
       "    </tr>\n",
       "  </thead>\n",
       "  <tbody>\n",
       "    <tr>\n",
       "      <th>1079</th>\n",
       "      <td>TG_E_S_20230331</td>\n",
       "      <td>4715.201735</td>\n",
       "    </tr>\n",
       "    <tr>\n",
       "      <th>1044</th>\n",
       "      <td>TG_E_S_20230330</td>\n",
       "      <td>4636.905040</td>\n",
       "    </tr>\n",
       "    <tr>\n",
       "      <th>1006</th>\n",
       "      <td>TG_E_S_20230329</td>\n",
       "      <td>4319.457891</td>\n",
       "    </tr>\n",
       "    <tr>\n",
       "      <th>957</th>\n",
       "      <td>TG_E_S_20230328</td>\n",
       "      <td>4406.550254</td>\n",
       "    </tr>\n",
       "    <tr>\n",
       "      <th>928</th>\n",
       "      <td>TG_E_S_20230327</td>\n",
       "      <td>4533.301873</td>\n",
       "    </tr>\n",
       "    <tr>\n",
       "      <th>...</th>\n",
       "      <td>...</td>\n",
       "      <td>...</td>\n",
       "    </tr>\n",
       "    <tr>\n",
       "      <th>180</th>\n",
       "      <td>TG_A_J_20230308</td>\n",
       "      <td>3528.164347</td>\n",
       "    </tr>\n",
       "    <tr>\n",
       "      <th>122</th>\n",
       "      <td>TG_A_J_20230307</td>\n",
       "      <td>3766.824294</td>\n",
       "    </tr>\n",
       "    <tr>\n",
       "      <th>102</th>\n",
       "      <td>TG_A_J_20230306</td>\n",
       "      <td>3030.469778</td>\n",
       "    </tr>\n",
       "    <tr>\n",
       "      <th>54</th>\n",
       "      <td>TG_A_J_20230305</td>\n",
       "      <td>28.367627</td>\n",
       "    </tr>\n",
       "    <tr>\n",
       "      <th>0</th>\n",
       "      <td>TG_A_J_20230304</td>\n",
       "      <td>2742.172780</td>\n",
       "    </tr>\n",
       "  </tbody>\n",
       "</table>\n",
       "<p>280 rows × 2 columns</p>\n",
       "</div>"
      ],
      "text/plain": [
       "                   ID       answer\n",
       "1079  TG_E_S_20230331  4715.201735\n",
       "1044  TG_E_S_20230330  4636.905040\n",
       "1006  TG_E_S_20230329  4319.457891\n",
       "957   TG_E_S_20230328  4406.550254\n",
       "928   TG_E_S_20230327  4533.301873\n",
       "...               ...          ...\n",
       "180   TG_A_J_20230308  3528.164347\n",
       "122   TG_A_J_20230307  3766.824294\n",
       "102   TG_A_J_20230306  3030.469778\n",
       "54    TG_A_J_20230305    28.367627\n",
       "0     TG_A_J_20230304  2742.172780\n",
       "\n",
       "[280 rows x 2 columns]"
      ]
     },
     "execution_count": 20,
     "metadata": {},
     "output_type": "execute_result"
    }
   ],
   "source": [
    "answer[[\"ID\",\"answer\"]].sort_values(by=[\"ID\"], ascending = False)"
   ]
  },
  {
   "cell_type": "code",
   "execution_count": 7,
   "metadata": {},
   "outputs": [],
   "source": [
    "# noindex 와 합치기\n",
    "dc_677 = pd.read_csv(\"submit/answer1112_noindex.csv\")\n",
    "dc_677[\"item\"] = dc_677[\"ID\"].map(lambda x:x.split(\"_\")[0])\n",
    "dc = dc_677[dc_677[\"item\"] != \"TG\"]\n",
    "answers = pd.concat([dc, answer[[\"ID\",\"answer\"]]]).drop(columns = [\"item\"])"
   ]
  },
  {
   "cell_type": "code",
   "execution_count": 12,
   "metadata": {},
   "outputs": [],
   "source": [
    "answers.to_csv(\"submit/1117tg_grid_sort.csv\")"
   ]
  },
  {
   "cell_type": "code",
   "execution_count": null,
   "metadata": {},
   "outputs": [],
   "source": []
  },
  {
   "cell_type": "code",
   "execution_count": null,
   "metadata": {},
   "outputs": [],
   "source": []
  },
  {
   "cell_type": "code",
   "execution_count": null,
   "metadata": {},
   "outputs": [],
   "source": []
  },
  {
   "cell_type": "code",
   "execution_count": null,
   "metadata": {},
   "outputs": [],
   "source": []
  },
  {
   "cell_type": "code",
   "execution_count": null,
   "metadata": {},
   "outputs": [],
   "source": []
  },
  {
   "cell_type": "code",
   "execution_count": null,
   "metadata": {},
   "outputs": [],
   "source": []
  },
  {
   "cell_type": "code",
   "execution_count": null,
   "metadata": {},
   "outputs": [],
   "source": []
  },
  {
   "cell_type": "code",
   "execution_count": null,
   "metadata": {},
   "outputs": [],
   "source": []
  },
  {
   "cell_type": "code",
   "execution_count": null,
   "metadata": {},
   "outputs": [],
   "source": []
  }
 ],
 "metadata": {
  "kernelspec": {
   "display_name": "base",
   "language": "python",
   "name": "python3"
  },
  "language_info": {
   "codemirror_mode": {
    "name": "ipython",
    "version": 3
   },
   "file_extension": ".py",
   "mimetype": "text/x-python",
   "name": "python",
   "nbconvert_exporter": "python",
   "pygments_lexer": "ipython3",
   "version": "3.11.4"
  }
 },
 "nbformat": 4,
 "nbformat_minor": 2
}
